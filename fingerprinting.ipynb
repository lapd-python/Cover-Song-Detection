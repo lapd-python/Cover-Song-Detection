{
 "cells": [
  {
   "cell_type": "code",
   "execution_count": 16,
   "metadata": {
    "collapsed": true
   },
   "outputs": [],
   "source": [
    "import librosa\n",
    "import numpy as np\n",
    "import scipy\n",
    "from sklearn.neighbors import NearestNeighbors\n",
    "import pydub\n",
    "import math\n",
    "import os"
   ]
  },
  {
   "cell_type": "code",
   "execution_count": 42,
   "metadata": {
    "collapsed": true
   },
   "outputs": [],
   "source": [
    "#replace with the name of the input file\n",
    "original_wav = \"grandevalse2.wav\""
   ]
  },
  {
   "cell_type": "code",
   "execution_count": 18,
   "metadata": {},
   "outputs": [
    {
     "data": {
      "text/plain": [
       "['skrillex.wav',\n",
       " 'moonlight4.wav',\n",
       " 'fantaisieimpromptu1.wav',\n",
       " '.DS_Store',\n",
       " 'moonlight1.wav',\n",
       " 'fantaisieimpromptu2.wav',\n",
       " 'moonlight2.wav',\n",
       " 'moonlight3.wav',\n",
       " 'fantaisieimpromptu3.wav',\n",
       " 'grandevalse1.wav',\n",
       " 'furelise1.wav',\n",
       " 'prelude3.wav',\n",
       " 'prelude2.wav',\n",
       " 'metal1.wav',\n",
       " 'furelise.wav',\n",
       " 'grandevalse2.wav',\n",
       " 'furelise2.wav',\n",
       " 'metal3.wav',\n",
       " 'prelude1.wav',\n",
       " 'metal2.wav',\n",
       " 'furelise3.wav',\n",
       " 'grandevalse3.wav',\n",
       " 'furelise4.wav',\n",
       " 'metal4.wav',\n",
       " 'rondoallaturca1.wav',\n",
       " 'rondoallaturca2.wav']"
      ]
     },
     "execution_count": 18,
     "metadata": {},
     "output_type": "execute_result"
    }
   ],
   "source": [
    "os.listdir(\"songs\")"
   ]
  },
  {
   "cell_type": "code",
   "execution_count": 43,
   "metadata": {
    "collapsed": true
   },
   "outputs": [],
   "source": [
    "songs_wav = [song for song in os.listdir(\"songs\") if song[-3:] == \"wav\"]\n",
    "if original_wav in songs_wav:\n",
    "    songs_wav.remove(original_wav)"
   ]
  },
  {
   "cell_type": "code",
   "execution_count": 44,
   "metadata": {
    "collapsed": true
   },
   "outputs": [],
   "source": [
    "original, sample_rate = librosa.load(\"songs/\" + original_wav)"
   ]
  },
  {
   "cell_type": "code",
   "execution_count": 45,
   "metadata": {
    "collapsed": true
   },
   "outputs": [],
   "source": [
    "song_data = [original] + [librosa.load(\"songs/\" + song)[0] for song in songs_wav]"
   ]
  },
  {
   "cell_type": "code",
   "execution_count": 22,
   "metadata": {
    "collapsed": true
   },
   "outputs": [],
   "source": [
    "def remove_zeros(vec):\n",
    "    temp = np.transpose(vec == 0)\n",
    "    indices = np.argwhere(temp == False)\n",
    "    return vec[indices[0][0]:indices[len(indices) - 1][0]]"
   ]
  },
  {
   "cell_type": "code",
   "execution_count": 23,
   "metadata": {
    "collapsed": true
   },
   "outputs": [],
   "source": [
    "songs = [remove_zeros(s) for s in song_data] "
   ]
  },
  {
   "cell_type": "code",
   "execution_count": 24,
   "metadata": {
    "collapsed": true
   },
   "outputs": [],
   "source": [
    "fft_frame_size = 2000"
   ]
  },
  {
   "cell_type": "code",
   "execution_count": 25,
   "metadata": {
    "collapsed": true
   },
   "outputs": [],
   "source": [
    "def get_fft_chunks(time_data):\n",
    "    num_samples= len(time_data)//fft_frame_size\n",
    "    return [np.fft.fft(time_data[i*fft_frame_size:(i+1)*fft_frame_size]) for i in range(num_samples)]"
   ]
  },
  {
   "cell_type": "code",
   "execution_count": 26,
   "metadata": {
    "collapsed": true
   },
   "outputs": [],
   "source": [
    "# original_fft = get_fft_chunks(remove_zeros(songs[0]))"
   ]
  },
  {
   "cell_type": "code",
   "execution_count": 27,
   "metadata": {
    "collapsed": true
   },
   "outputs": [],
   "source": [
    "#testing the stackoverflow code\n",
    "#2000 is the length of one window\n",
    "freq = np.fft.fftfreq(fft_frame_size)\n",
    "fft_freqs = [abs(freq[i]*sample_rate) for i in range(fft_frame_size)]"
   ]
  },
  {
   "cell_type": "code",
   "execution_count": 1,
   "metadata": {},
   "outputs": [
    {
     "ename": "NameError",
     "evalue": "name 'fft_freqs' is not defined",
     "output_type": "error",
     "traceback": [
      "\u001b[0;31m---------------------------------------------------------------------------\u001b[0m",
      "\u001b[0;31mNameError\u001b[0m                                 Traceback (most recent call last)",
      "\u001b[0;32m<ipython-input-1-da152dab6f93>\u001b[0m in \u001b[0;36m<module>\u001b[0;34m()\u001b[0m\n\u001b[0;32m----> 1\u001b[0;31m \u001b[0mtype\u001b[0m\u001b[0;34m(\u001b[0m\u001b[0mfft_freqs\u001b[0m\u001b[0;34m)\u001b[0m\u001b[0;34m\u001b[0m\u001b[0m\n\u001b[0m",
      "\u001b[0;31mNameError\u001b[0m: name 'fft_freqs' is not defined"
     ]
    }
   ],
   "source": [
    "fft_freqs"
   ]
  },
  {
   "cell_type": "code",
   "execution_count": 29,
   "metadata": {
    "collapsed": true
   },
   "outputs": [],
   "source": [
    "ranges = [40, 80, 120, 180, 300]"
   ]
  },
  {
   "cell_type": "code",
   "execution_count": 30,
   "metadata": {
    "collapsed": true
   },
   "outputs": [],
   "source": [
    "def get_magnitudes(fft):\n",
    "    #return high_mags, a 2d array\n",
    "    #high_mags[i][0] is for 0-40\n",
    "    #high_mags[i][1] is for 40-80\n",
    "    #etc. where i is in range(len(fft)), or each fft window \n",
    "    high_mags = [np.zeros(len(ranges)) for k in range(len(fft))]\n",
    "    \n",
    "    def max_mag_in_window(index, high_mags):\n",
    "        nonlocal i\n",
    "        #tuple in form (current highest magnitude, index of current highest magnitude)\n",
    "        mag = (0, 0)\n",
    "        while(fft_freqs[i] < ranges[index]): \n",
    "            curr_mag = math.log10(abs(window[i])+1)\n",
    "            if curr_mag > mag[0]:\n",
    "                mag = (curr_mag, i)\n",
    "            i += 1\n",
    "            high_mags[fft_window][index] = fft_freqs[mag[1]]\n",
    "            \n",
    "    for fft_window in range(len(fft)):\n",
    "        window = fft[fft_window]\n",
    "        i = 0\n",
    "        #find the maximum magnitudes in each window of ranges (0-40, 40-80, etc.)\n",
    "        for j in range(len(ranges)):\n",
    "            max_mag_in_window(j, high_mags)\n",
    "    return high_mags"
   ]
  },
  {
   "cell_type": "code",
   "execution_count": 31,
   "metadata": {
    "collapsed": true
   },
   "outputs": [],
   "source": [
    "#a key is a set of 5 magnitudes that are the greatest in the ranges \n",
    "#0-40, 40-80, 80-120, 120-180, and 180-300 Hz\n",
    "#the values are an array of tuples of type (time, song name)\n",
    "#where time is the \"window\" (an index) and song is a string such as \"furelise\"\n",
    "\n",
    "def populate_database(mags, database, song_name):\n",
    "    for i in range(len(mags)): #i = index of \"window\" so it corresponds to what we can consider \"time\" i suppose\n",
    "        key = str(mags[i])\n",
    "        if key not in database:\n",
    "            database[key] = {}\n",
    "        if song_name not in database[key]:\n",
    "            database[key][song_name] = []\n",
    "        database[key][song_name].append(i)\n",
    "    "
   ]
  },
  {
   "cell_type": "code",
   "execution_count": 46,
   "metadata": {},
   "outputs": [
    {
     "name": "stdout",
     "output_type": "stream",
     "text": [
      "adding song  schubertimpromptu1 ...\n",
      "adding song  skrillex ...\n",
      "adding song  schubertimpromptu2 ...\n",
      "adding song  moonlight4 ...\n",
      "adding song  schubertimpromptu3 ...\n",
      "adding song  fantaisieimpromptu1 ...\n",
      "adding song  moonlight1 ...\n",
      "adding song  fantaisieimpromptu2 ...\n",
      "adding song  moonlight2 ...\n",
      "adding song  moonlight3 ...\n",
      "adding song  fantaisieimpromptu3 ...\n",
      "adding song  grandevalse1 ...\n",
      "adding song  furelise1 ...\n",
      "adding song  prelude3 ...\n",
      "adding song  prelude2 ...\n",
      "adding song  metal1 ...\n",
      "adding song  furelise ...\n",
      "adding song  furelise2 ...\n",
      "adding song  metal3 ...\n",
      "adding song  prelude1 ...\n",
      "adding song  metal2 ...\n",
      "adding song  furelise3 ...\n",
      "adding song  grandevalse3 ...\n",
      "adding song  furelise4 ...\n"
     ]
    }
   ],
   "source": [
    "database = {}\n",
    "#songs[0] is the original/input, we want to process it separately\n",
    "for index, song in enumerate(songs[1:]):\n",
    "    print(\"adding song \", songs_wav[index][:-4], \"...\")\n",
    "    \n",
    "    original_fft = get_fft_chunks(song)\n",
    "    mags = get_magnitudes(original_fft)\n",
    "    populate_database(mags, database, songs_wav[index][:-4])\n",
    "    "
   ]
  },
  {
   "cell_type": "code",
   "execution_count": 47,
   "metadata": {
    "collapsed": true
   },
   "outputs": [],
   "source": [
    "#process original/input song \n",
    "original_fingerprint = {}\n",
    "original_fft = get_fft_chunks(original)\n",
    "mags = get_magnitudes(original_fft)\n",
    "populate_database(mags, original_fingerprint, original_wav)"
   ]
  },
  {
   "cell_type": "code",
   "execution_count": 48,
   "metadata": {
    "collapsed": true
   },
   "outputs": [],
   "source": [
    "similarities = {key[:-4]:0 for key in songs_wav}"
   ]
  },
  {
   "cell_type": "code",
   "execution_count": 35,
   "metadata": {},
   "outputs": [
    {
     "name": "stdout",
     "output_type": "stream",
     "text": [
      "{'skrillex': [286, 322, 624, 811, 875, 1270, 1273, 1295, 1296, 1332, 1521, 1613], 'fantaisieimpromptu2': [1197], 'moonlight3': [747], 'furelise1': [0, 1673, 2356], 'metal1': [23, 28], 'furelise2': [959, 1511], 'furelise3': [1524], 'grandevalse3': [677], 'furelise4': [1299]}\n"
     ]
    }
   ],
   "source": [
    "# print(database['[  33.075   44.1    110.25   121.275  231.525]'])"
   ]
  },
  {
   "cell_type": "code",
   "execution_count": 49,
   "metadata": {
    "collapsed": true
   },
   "outputs": [],
   "source": [
    "#for each set of 5 notes in the original/input song, check if in other songs\n",
    "            \n",
    "for key in original_fingerprint.keys():\n",
    "    if key in database:\n",
    "        for song_name in database[key]:\n",
    "            similarities[song_name] += len(database[key][song_name])"
   ]
  },
  {
   "cell_type": "code",
   "execution_count": 50,
   "metadata": {},
   "outputs": [
    {
     "data": {
      "text/plain": [
       "{'fantaisieimpromptu1': 1528,\n",
       " 'fantaisieimpromptu2': 1131,\n",
       " 'fantaisieimpromptu3': 219,\n",
       " 'furelise': 415,\n",
       " 'furelise1': 46,\n",
       " 'furelise2': 21,\n",
       " 'furelise3': 16,\n",
       " 'furelise4': 546,\n",
       " 'grandevalse1': 866,\n",
       " 'grandevalse3': 453,\n",
       " 'metal1': 101,\n",
       " 'metal2': 722,\n",
       " 'metal3': 287,\n",
       " 'metal4': 0,\n",
       " 'moonlight1': 955,\n",
       " 'moonlight2': 1841,\n",
       " 'moonlight3': 366,\n",
       " 'moonlight4': 1046,\n",
       " 'prelude1': 2165,\n",
       " 'prelude2': 489,\n",
       " 'prelude3': 2608,\n",
       " 'rondoallaturca1': 0,\n",
       " 'rondoallaturca2': 0,\n",
       " 'schubertimpromptu1': 364,\n",
       " 'schubertimpromptu2': 1152,\n",
       " 'schubertimpromptu3': 1456,\n",
       " 'skrillex': 1817}"
      ]
     },
     "execution_count": 50,
     "metadata": {},
     "output_type": "execute_result"
    }
   ],
   "source": [
    "similarities"
   ]
  },
  {
   "cell_type": "code",
   "execution_count": 51,
   "metadata": {},
   "outputs": [
    {
     "data": {
      "text/plain": [
       "'prelude'"
      ]
     },
     "execution_count": 51,
     "metadata": {},
     "output_type": "execute_result"
    }
   ],
   "source": [
    "def knn(k, sim_dict):\n",
    "    sorted_dict = sorted(sim_dict, key=sim_dict.get, reverse=True)[:k]\n",
    "    counts = {}\n",
    "    for s in sorted_dict:\n",
    "        name = s[:-1]\n",
    "        if name not in counts:\n",
    "            counts[name] = 0\n",
    "        counts[name] += 1\n",
    "    return max(counts, key=counts.get)\n",
    "\n",
    "knn(3, similarities)"
   ]
  },
  {
   "cell_type": "code",
   "execution_count": 52,
   "metadata": {},
   "outputs": [
    {
     "name": "stdout",
     "output_type": "stream",
     "text": [
      "prelude3\n"
     ]
    }
   ],
   "source": [
    "print(max(similarities, key=similarities.get))"
   ]
  },
  {
   "cell_type": "code",
   "execution_count": 243,
   "metadata": {
    "collapsed": true
   },
   "outputs": [],
   "source": [
    "# similarities = {key[:-4]:0 for key in songs_wav}"
   ]
  },
  {
   "cell_type": "code",
   "execution_count": 244,
   "metadata": {
    "collapsed": true
   },
   "outputs": [],
   "source": [
    "# for key in original_fingerprint.keys():\n",
    "#     original_indices = original_fingerprint[key][original_wav]\n",
    "#     if key in database:\n",
    "#         for song_name in database[key]:\n",
    "#             database_indices = database[key][song_name]\n",
    "#             differences = [original - database for original, database in zip(original_indices, database_indices)]\n",
    "#             relative_differences = np.mean(np.array(differences))\n",
    "#             sim = np.linalg.norm(np.array(differences - relative_differences))\n",
    "#             if sim < 100:\n",
    "#                 similarities[song_name] += 1\n",
    "#             elif sim < 1000:\n",
    "#                 similarities[song_name] += 0.5\n",
    "#             else:\n",
    "#                 similarities[song_name] += 0.1\n"
   ]
  },
  {
   "cell_type": "code",
   "execution_count": 217,
   "metadata": {
    "collapsed": true
   },
   "outputs": [],
   "source": [
    "# print(similarities)"
   ]
  },
  {
   "cell_type": "code",
   "execution_count": 218,
   "metadata": {
    "collapsed": true
   },
   "outputs": [],
   "source": [
    "# print(max(similarities, key=similarities.get))"
   ]
  }
 ],
 "metadata": {
  "anaconda-cloud": {},
  "kernelspec": {
   "display_name": "Python 3",
   "language": "python",
   "name": "python3"
  },
  "language_info": {
   "codemirror_mode": {
    "name": "ipython",
    "version": 3
   },
   "file_extension": ".py",
   "mimetype": "text/x-python",
   "name": "python",
   "nbconvert_exporter": "python",
   "pygments_lexer": "ipython3",
   "version": "3.6.1"
  }
 },
 "nbformat": 4,
 "nbformat_minor": 2
}
